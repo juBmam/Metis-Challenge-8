{
 "cells": [
  {
   "cell_type": "code",
   "execution_count": 33,
   "metadata": {},
   "outputs": [],
   "source": [
    "import pandas as pd\n",
    "import numpy as np\n",
    "from sklearn.model_selection import GridSearchCV\n",
    "from sklearn.neighbors import KNeighborsClassifier\n",
    "from sklearn.preprocessing import OneHotEncoder, StandardScaler\n",
    "from sklearn.model_selection import train_test_split\n",
    "from sklearn.metrics import accuracy_score\n",
    "from sklearn import metrics\n",
    "from sklearn.linear_model import LogisticRegression\n",
    "from sklearn.metrics import precision_score, recall_score, precision_recall_curve,f1_score, fbeta_score\n",
    "from sklearn.metrics import roc_auc_score, roc_curve\n",
    "import seaborn as sns"
   ]
  },
  {
   "cell_type": "code",
   "execution_count": 34,
   "metadata": {},
   "outputs": [],
   "source": [
    "df = pd.read_csv(\"/Users/juBmam/Desktop/house-votes-84.data\", names= ['Party', 'Handicapped Infants', 'Water Project Cost Sharing', 'Adoption of the Budget Resolution', 'Physician Fee Freeze', 'El Salvador Aid', 'Religious Groups in Schools', 'Anti Satellite Test Ban', 'Aid to Nicaraguan Contras', 'MX Missile', 'Immigration', 'Synfuels Corporation Cutback', 'Education spending', 'Superfund Right to Use', 'Crime', 'Duty Free Exports', 'Export Administration Act S. Africa'])"
   ]
  },
  {
   "cell_type": "code",
   "execution_count": 35,
   "metadata": {},
   "outputs": [
    {
     "name": "stdout",
     "output_type": "stream",
     "text": [
      "Outcomes from the Best KNN Regression Model:\n",
      "Minimum Average Test MSE: -0.055\n",
      "The optimal n: 6\n"
     ]
    },
    {
     "data": {
      "text/plain": [
       "0.9425287356321839"
      ]
     },
     "execution_count": 35,
     "metadata": {},
     "output_type": "execute_result"
    }
   ],
   "source": [
    "X = df.iloc[:,1:]\n",
    "y = df['Party']\n",
    "X_train, X_test, y_train, y_test = train_test_split(X, y, test_size= 0.3, random_state= 4444)\n",
    "\n",
    "def yesno(input):\n",
    "    if input == 'y' or input == 'republican':\n",
    "        return 1\n",
    "    elif input == 'n' or input == 'democrat':\n",
    "        return 0\n",
    "    else:\n",
    "        return input\n",
    "    \n",
    "for i in df.columns:\n",
    "    df[i] = df[i].apply(yesno)\n",
    "    \n",
    "for i in df.columns[1:]:\n",
    "    values = sorted(df[i].value_counts(), reverse = True)\n",
    "    fraction = values[1] / 435\n",
    "    fraction = round(fraction, 3)\n",
    "    df[i] = df[i].replace('?', fraction)\n",
    "    \n",
    "X = df.iloc[:,1:]\n",
    "y = df['Party']\n",
    "KNN_parameters = {'n_neighbors': np.arange(1,21,1)}\n",
    "grid_search = GridSearchCV(estimator=KNeighborsClassifier(), param_grid = KNN_parameters, cv=10, scoring='neg_mean_squared_error', verbose = 0, n_jobs = -1)\n",
    "grid_search.fit(X, y)\n",
    "print(\"Outcomes from the Best KNN Regression Model:\")\n",
    "print(\"Minimum Average Test MSE:\", grid_search.best_score_.round(3))\n",
    "print(\"The optimal n:\", grid_search.best_params_['n_neighbors'])\n",
    "\n",
    "X_train, X_test, y_train, y_test = train_test_split(X, y, test_size= 0.2, random_state= 10)\n",
    "knn = KNeighborsClassifier(n_neighbors = 6)\n",
    "knn.fit(X_train, y_train)\n",
    "predict = knn.predict(X_test)\n",
    "accuracy = metrics.accuracy_score(y_test, predict)\n",
    "accuracy\n",
    "\n"
   ]
  },
  {
   "cell_type": "code",
   "execution_count": 36,
   "metadata": {},
   "outputs": [
    {
     "name": "stdout",
     "output_type": "stream",
     "text": [
      "Default threshold:\n",
      "Precision: 0.9000,   Recall: 0.9730\n",
      "0.935064935064935\n"
     ]
    }
   ],
   "source": [
    "y_predict = knn.predict(X_test)\n",
    "print(\"Default threshold:\")\n",
    "print(\"Precision: {:6.4f},   Recall: {:6.4f}\".format(precision_score(y_test, y_predict), \n",
    "                                                     recall_score(y_test, y_predict)))\n",
    "print(f1_score(y_test, y_predict))"
   ]
  },
  {
   "cell_type": "code",
   "execution_count": 38,
   "metadata": {},
   "outputs": [
    {
     "name": "stdout",
     "output_type": "stream",
     "text": [
      "ROC AUC score =  0.9716216216216216\n"
     ]
    },
    {
     "data": {
      "image/png": "[encoded data removed]",
      "text/plain": [
       "<Figure size 432x288 with 1 Axes>"
      ]
     },
     "metadata": {
      "needs_background": "light"
     },
     "output_type": "display_data"
    }
   ],
   "source": [
    "fpr, tpr, thresholds = roc_curve(y_test, knn.predict_proba(X_test)[:,1])\n",
    "\n",
    "plt.plot(fpr, tpr,lw=2)\n",
    "plt.plot([0,1],[0,1],c='violet',ls='--')\n",
    "plt.xlim([-0.05,1.05])\n",
    "plt.ylim([-0.05,1.05])\n",
    "\n",
    "\n",
    "plt.xlabel('False positive rate')\n",
    "plt.ylabel('True positive rate')\n",
    "plt.title('ROC curve');\n",
    "print(\"ROC AUC score = \", roc_auc_score(y_test, knn.predict_proba(X_test)[:,1]))"
   ]
  },
  {
   "cell_type": "code",
   "execution_count": null,
   "metadata": {},
   "outputs": [],
   "source": []
  }
 ],
 "metadata": {
  "kernelspec": {
   "display_name": "Python 3",
   "language": "python",
   "name": "python3"
  },
  "language_info": {
   "codemirror_mode": {
    "name": "ipython",
    "version": 3
   },
   "file_extension": ".py",
   "mimetype": "text/x-python",
   "name": "python",
   "nbconvert_exporter": "python",
   "pygments_lexer": "ipython3",
   "version": "3.8.5"
  }
 },
 "nbformat": 4,
 "nbformat_minor": 4
}
